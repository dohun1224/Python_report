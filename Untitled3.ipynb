{
  "nbformat": 4,
  "nbformat_minor": 0,
  "metadata": {
    "colab": {
      "name": "Untitled3.ipynb",
      "provenance": [],
      "authorship_tag": "ABX9TyMYWUMdsNFWDKyeNYJsDaYe",
      "include_colab_link": true
    },
    "kernelspec": {
      "name": "python3",
      "display_name": "Python 3"
    },
    "language_info": {
      "name": "python"
    }
  },
  "cells": [
    {
      "cell_type": "markdown",
      "metadata": {
        "id": "view-in-github",
        "colab_type": "text"
      },
      "source": [
        "<a href=\"https://colab.research.google.com/github/dohun1224/Python_report/blob/main/Untitled3.ipynb\" target=\"_parent\"><img src=\"https://colab.research.google.com/assets/colab-badge.svg\" alt=\"Open In Colab\"/></a>"
      ]
    },
    {
      "cell_type": "code",
      "execution_count": 1,
      "metadata": {
        "colab": {
          "base_uri": "https://localhost:8080/"
        },
        "id": "MjUBfJAD86IE",
        "outputId": "a45cb76b-c384-465a-950a-4aac865ab41f"
      },
      "outputs": [
        {
          "output_type": "stream",
          "name": "stdout",
          "text": [
            "3개의 정수값을 입력하시오.\n",
            "첫번째 값을 입력하시오.: 5\n",
            "두번째 값을 입력하시오.: 4\n",
            "셋번째 값을 입력하시오.: 2\n",
            "5 4 2\n",
            "11\n"
          ]
        }
      ],
      "source": [
        "print(\"3개의 정수값을 입력하시오.\")\n",
        "lnt1 = int(input(\"첫번째 값을 입력하시오.: \"))\n",
        "lnt2 = int(input(\"두번째 값을 입력하시오.: \"))\n",
        "lnt3 = int(input(\"셋번째 값을 입력하시오.: \"))\n",
        "print(lnt1, lnt2, lnt3)\n",
        "sum = lnt1 + lnt2 + lnt3\n",
        "print(sum)"
      ]
    },
    {
      "cell_type": "code",
      "source": [
        "total = 0\n",
        "counter = 1\n",
        "while counter <= 10:\n",
        "  grade = int(input(\"점수를 입력하시오.: \"))\n",
        "  total = grade + total\n",
        "  counter = counter + 1\n",
        "aver = total / 10\n",
        "print(aver)"
      ],
      "metadata": {
        "colab": {
          "base_uri": "https://localhost:8080/"
        },
        "id": "Yi8-xck1C59d",
        "outputId": "07210387-8056-4a19-a463-d25f93c034ad"
      },
      "execution_count": 3,
      "outputs": [
        {
          "output_type": "stream",
          "name": "stdout",
          "text": [
            "점수를 입력하시오.: 10\n",
            "점수를 입력하시오.: 20\n",
            "점수를 입력하시오.: 30\n",
            "점수를 입력하시오.: 40\n",
            "점수를 입력하시오.: 50\n",
            "점수를 입력하시오.: 60\n",
            "점수를 입력하시오.: 70\n",
            "점수를 입력하시오.: 80\n",
            "점수를 입력하시오.: 90\n",
            "점수를 입력하시오.: 100\n",
            "55.0\n"
          ]
        }
      ]
    },
    {
      "cell_type": "code",
      "source": [
        "pay_rate = int(input(\"시급을 입력하시오. 2022년 6월 기준 9160원: \"))\n",
        "hour_work = int(input(\"일한 시간을 입력하시오.: \"))\n",
        "mon_pay = pay_rate * hour_work\n",
        "print(mon_pay)"
      ],
      "metadata": {
        "colab": {
          "base_uri": "https://localhost:8080/"
        },
        "id": "rxUzIKdlMG8l",
        "outputId": "ee9b2fc5-1a72-4b86-f12c-78a311d808dc"
      },
      "execution_count": 6,
      "outputs": [
        {
          "output_type": "stream",
          "name": "stdout",
          "text": [
            "시급을 입력하시오. 2022년 6월 기준 9160원: 9160\n",
            "일한 시간을 입력하시오.: 72\n",
            "659520\n"
          ]
        }
      ]
    }
  ]
}